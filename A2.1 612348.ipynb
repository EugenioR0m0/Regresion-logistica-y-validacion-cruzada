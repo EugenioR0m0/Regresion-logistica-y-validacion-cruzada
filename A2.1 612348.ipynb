{
 "cells": [
  {
   "cell_type": "markdown",
   "id": "1393c05e-972c-46fa-af68-fcd04502e315",
   "metadata": {},
   "source": [
    "### Inciso 1 – Binarización de la variable objetivo\n",
    "\n",
    "La limpieza de datos ya se había realizado en el proyecto previo.\n",
    "En este inciso únicamente se transformó la variable **Addiction_Level** en binaria, usando la mediana como umbral:\n",
    "\n",
    "- **0** = nivel bajo de adicción (≤ mediana)\n",
    "- **1** = nivel alto de adicción (> mediana)"
   ]
  },
  {
   "cell_type": "code",
   "execution_count": 1,
   "id": "95b578ba-e8c4-4bdf-928a-b05c81a941f4",
   "metadata": {},
   "outputs": [],
   "source": [
    "import pandas as pd\n",
    "import numpy as np\n",
    "from sklearn.preprocessing import StandardScaler\n",
    "from sklearn.linear_model import LassoCV\n",
    "\n",
    "df = pd.read_csv(\"teen_phone_addiction_dataset.csv\")\n",
    "df = df.drop(columns=[\"Name\",\"Location\",\"School_Grade\"], errors=\"ignore\")\n",
    "df_encoded = pd.get_dummies(df, drop_first=True)\n",
    "\n",
    "Q1 = df_encoded[\"Addiction_Level\"].quantile(0.25)\n",
    "Q3 = df_encoded[\"Addiction_Level\"].quantile(0.75)\n",
    "IQR = Q3 - Q1\n",
    "mask = (df_encoded[\"Addiction_Level\"] < Q1 - 1.5*IQR) | (df_encoded[\"Addiction_Level\"] > Q3 + 1.5*IQR)\n",
    "df_no_outliers = df_encoded.loc[~mask].copy()\n",
    "\n",
    "df_imputed = df_no_outliers.fillna(df_no_outliers.mean(numeric_only=True))\n",
    "\n",
    "X_tmp = df_imputed.drop(columns=[\"Addiction_Level\",\"ID\"], errors=\"ignore\")\n",
    "y_cont = df_imputed[\"Addiction_Level\"]\n",
    "scaler = StandardScaler()\n",
    "X_scaled = scaler.fit_transform(X_tmp)\n",
    "lasso = LassoCV(cv=5, random_state=42).fit(X_scaled, y_cont)\n",
    "selected = X_tmp.columns[(lasso.coef_ != 0)].tolist()\n",
    "\n",
    "threshold = df_imputed[\"Addiction_Level\"].median()\n",
    "y_binary = np.where(df_imputed[\"Addiction_Level\"] > threshold, 1, 0)"
   ]
  },
  {
   "cell_type": "markdown",
   "id": "a431865f-138e-4a5d-b6f1-3a3f75ce9e15",
   "metadata": {},
   "source": [
    "### Inciso 2 – División en entrenamiento y prueba\n",
    "\n",
    "Se realizó la división de los datos en **80% entrenamiento** y **20% prueba** mediante muestreo estratificado, asegurando que las proporciones de las clases se mantuvieran prácticamente iguales en ambos subconjuntos. Esto garantiza que el modelo se entrene y evalúe con un balance representativo de las dos clases."
   ]
  },
  {
   "cell_type": "code",
   "execution_count": 6,
   "id": "c1b56ed1-84b0-4efb-b49b-aea9c7607a5b",
   "metadata": {},
   "outputs": [
    {
     "name": "stdout",
     "output_type": "stream",
     "text": [
      "Datos originales -> 0:0.500 | 1:0.500 (n=2904)\n",
      "Entrenamiento -> 0:0.500 | 1:0.500 (n=2323)\n",
      "Prueba -> 0:0.501 | 1:0.499 (n=581)\n"
     ]
    }
   ],
   "source": [
    "y_binary = pd.qcut(\n",
    "    df_imputed[\"Addiction_Level\"].rank(method=\"first\"),\n",
    "    q=[0, 0.5, 1.0],\n",
    "    labels=[0, 1]\n",
    ").astype(int)\n",
    "\n",
    "X = df_imputed[selected].copy()\n",
    "y = pd.Series(y_binary, name=\"target\")\n",
    "\n",
    "def proporciones(yvec, titulo):\n",
    "    p = yvec.value_counts(normalize=True).sort_index().reindex([0,1], fill_value=0.0)\n",
    "    print(f\"{titulo} -> 0:{p.loc[0]:.3f} | 1:{p.loc[1]:.3f} (n={len(yvec)})\")\n",
    "\n",
    "proporciones(y, \"Datos originales\")\n",
    "\n",
    "from sklearn.model_selection import StratifiedShuffleSplit\n",
    "\n",
    "def split_con_dos_clases(X, y, test_size=0.20, intentos=30, seed=42):\n",
    "    sss = StratifiedShuffleSplit(n_splits=intentos, test_size=test_size, random_state=seed)\n",
    "    for tr_idx, te_idx in sss.split(X, y):\n",
    "        y_tr, y_te = y.iloc[tr_idx], y.iloc[te_idx]\n",
    "        if y_tr.nunique() == 2 and y_te.nunique() == 2:\n",
    "            return X.iloc[tr_idx], X.iloc[te_idx], y_tr, y_te\n",
    "    return None, None, None, None\n",
    "\n",
    "X_train, X_test, y_train, y_test = split_con_dos_clases(X, y, test_size=0.20)\n",
    "\n",
    "if X_train is None:\n",
    "    X_train, X_test, y_train, y_test = split_con_dos_clases(X, y, test_size=0.10)\n",
    "\n",
    "if X_train is None:\n",
    "    raise ValueError(\"No fue posible crear train/test con ambas clases. Revisa la binarización o el tamaño de la clase minoritaria.\")\n",
    "\n",
    "proporciones(y_train, \"Entrenamiento\")\n",
    "proporciones(y_test,  \"Prueba\")"
   ]
  },
  {
   "cell_type": "markdown",
   "id": "7090a859-0c79-40e0-ad62-a94388c18d10",
   "metadata": {},
   "source": [
    "### Inciso 3 – Validación cruzada con regresión logística\n",
    "\n",
    "Se entrenó un modelo de regresión logística utilizando únicamente los datos de entrenamiento.  \n",
    "Para evaluar su desempeño se aplicó **validación cruzada estratificada con 5 folds**, lo que permitió estimar la exactitud de manera más robusta.  \n",
    "\n",
    "El modelo mostró un desempeño consistente en los diferentes folds, con una **exactitud promedio cercana al 94%**, indicando una buena capacidad predictiva y generalización."
   ]
  },
  {
   "cell_type": "code",
   "execution_count": 7,
   "id": "b70cf7c3-9eeb-4a30-92cb-5f448ab56c3c",
   "metadata": {},
   "outputs": [
    {
     "name": "stdout",
     "output_type": "stream",
     "text": [
      "Folds usados: 5\n",
      "Scores de validación cruzada: [0.94408602 0.95698925 0.95483871 0.92887931 0.9375    ]\n",
      "Exactitud promedio: 0.9444586577678903\n"
     ]
    }
   ],
   "source": [
    "from sklearn.linear_model import LogisticRegression\n",
    "from sklearn.model_selection import StratifiedKFold, cross_val_score\n",
    "\n",
    "unique_classes = len(y_train.unique())\n",
    "\n",
    "if unique_classes < 2:\n",
    "    print(\"Error: Los datos de entrenamiento contienen solo una clase. La regresión logística requiere al menos dos clases.\")\n",
    "    print(f\"Clases únicas encontradas: {y_train.unique()}\")\n",
    "else:\n",
    "    class_counts = y_train.value_counts()\n",
    "    cv_splits = int(min(5, class_counts.min()))\n",
    "    \n",
    "    if cv_splits < 2:\n",
    "        print(\"No es posible hacer validación cruzada estratificada: la clase minoritaria en y_train tiene < 2 muestras.\")\n",
    "    else:\n",
    "        logreg = LogisticRegression(max_iter=1000, class_weight=\"balanced\", random_state=42)\n",
    "        skf = StratifiedKFold(n_splits=cv_splits, shuffle=True, random_state=42)\n",
    "        cv_scores = cross_val_score(logreg, X_train, y_train, cv=skf, scoring=\"accuracy\")\n",
    "        print(f\"Folds usados: {cv_splits}\")\n",
    "        print(\"Scores de validación cruzada:\", cv_scores)\n",
    "        print(\"Exactitud promedio:\", cv_scores.mean())"
   ]
  },
  {
   "cell_type": "markdown",
   "id": "c7d15142-ef23-4f23-a13f-93d4d892bc17",
   "metadata": {},
   "source": [
    "### Inciso 4 – Evaluación en conjunto de prueba con diferentes umbrales\n",
    "\n",
    "Se entrenó un modelo de regresión logística con los datos de entrenamiento y se evaluó en el conjunto de prueba.  \n",
    "A partir de las probabilidades estimadas, se generaron matrices de confusión y se calcularon las métricas principales (exactitud, sensibilidad y especificidad) en tres umbrales distintos: **0.5, 0.7 y 0.3**.  \n",
    "\n",
    "Los resultados muestran cómo al variar el umbral se modifica el balance entre sensibilidad y especificidad:  \n",
    "- Con umbral 0.5 se mantiene un equilibrio entre ambas métricas.  \n",
    "- Con umbral 0.7 aumenta la especificidad, pero disminuye la sensibilidad.  \n",
    "- Con umbral 0.3 ocurre lo contrario: la sensibilidad sube, pero la especificidad baja.  \n",
    "\n",
    "Esto permite ajustar el modelo según la prioridad del análisis (detectar más casos positivos o reducir falsos positivos)."
   ]
  },
  {
   "cell_type": "code",
   "execution_count": 8,
   "id": "c1771f28-0c17-43dc-97ce-0ea98baf957a",
   "metadata": {},
   "outputs": [
    {
     "name": "stdout",
     "output_type": "stream",
     "text": [
      "Umbral 0.50 | Exactitud: 0.943 | Sensibilidad: 0.921 | Especificidad: 0.966\n",
      "        Pred 0  Pred 1\n",
      "Real 0     281      10\n",
      "Real 1      23     267\n",
      "--------------------------------------------------\n",
      "Umbral 0.70 | Exactitud: 0.881 | Sensibilidad: 0.797 | Especificidad: 0.966\n",
      "        Pred 0  Pred 1\n",
      "Real 0     281      10\n",
      "Real 1      59     231\n",
      "--------------------------------------------------\n",
      "Umbral 0.30 | Exactitud: 0.964 | Sensibilidad: 1.000 | Especificidad: 0.928\n",
      "        Pred 0  Pred 1\n",
      "Real 0     270      21\n",
      "Real 1       0     290\n",
      "--------------------------------------------------\n"
     ]
    }
   ],
   "source": [
    "from sklearn.metrics import confusion_matrix, accuracy_score, recall_score\n",
    "\n",
    "clf = LogisticRegression(max_iter=1000, class_weight=\"balanced\", random_state=42)\n",
    "clf.fit(X_train, y_train)\n",
    "\n",
    "proba = clf.predict_proba(X_test)[:, 1]\n",
    "umbrales = [0.5, 0.7, 0.3]\n",
    "\n",
    "def métricas(y_true, y_score, thr):\n",
    "    y_pred = (y_score >= thr).astype(int)\n",
    "    cm = confusion_matrix(y_true, y_pred, labels=[0,1])\n",
    "    acc = accuracy_score(y_true, y_pred)\n",
    "    sens = recall_score(y_true, y_pred, pos_label=1)\n",
    "    espec = recall_score(y_true, y_pred, pos_label=0)\n",
    "    return thr, acc, sens, espec, cm\n",
    "\n",
    "resultados = [métricas(y_test, proba, t) for t in umbrales]\n",
    "\n",
    "for t, acc, sens, espec, cm in resultados:\n",
    "    print(f\"Umbral {t:.2f} | Exactitud: {acc:.3f} | Sensibilidad: {sens:.3f} | Especificidad: {espec:.3f}\")\n",
    "    print(pd.DataFrame(cm, index=['Real 0','Real 1'], columns=['Pred 0','Pred 1']))\n",
    "    print(\"-\"*50)"
   ]
  },
  {
   "cell_type": "markdown",
   "id": "04d0b740-52d0-40c7-87ec-4be9ed9d8169",
   "metadata": {},
   "source": [
    "### Inciso 5 – Curva ROC y AUC\n",
    "\n",
    "Se construyó la **curva ROC** a partir de las probabilidades estimadas en el conjunto de prueba.  \n",
    "El área bajo la curva (**AUC**) fue de **0.979**, lo que indica un modelo con un alto poder de discriminación entre las clases.  \n",
    "\n",
    "La curva se aproxima al vértice superior izquierdo, lo que confirma un desempeño muy superior al azar (AUC = 0.5)."
   ]
  },
  {
   "cell_type": "code",
   "execution_count": 9,
   "id": "ea0eb348-b9a8-4e72-8028-4593e8604afd",
   "metadata": {},
   "outputs": [
    {
     "data": {
      "image/png": "[encoded data removed]",
      "text/plain": [
       "<Figure size 600x600 with 1 Axes>"
      ]
     },
     "metadata": {},
     "output_type": "display_data"
    },
    {
     "name": "stdout",
     "output_type": "stream",
     "text": [
      "Valor de AUC: 0.9790022514515937\n"
     ]
    }
   ],
   "source": [
    "from sklearn.metrics import roc_curve, roc_auc_score\n",
    "import matplotlib.pyplot as plt\n",
    "\n",
    "fpr, tpr, _ = roc_curve(y_test, proba)\n",
    "auc = roc_auc_score(y_test, proba)\n",
    "\n",
    "plt.figure(figsize=(6,6))\n",
    "plt.plot(fpr, tpr, label=f\"AUC = {auc:.3f}\")\n",
    "plt.plot([0,1], [0,1], linestyle=\"--\", color=\"gray\")\n",
    "plt.xlabel(\"False Positive Rate (1 - Especificidad)\")\n",
    "plt.ylabel(\"True Positive Rate (Sensibilidad)\")\n",
    "plt.title(\"Curva ROC\")\n",
    "plt.legend(loc=\"lower right\")\n",
    "plt.show()\n",
    "\n",
    "print(\"Valor de AUC:\", auc)"
   ]
  },
  {
   "cell_type": "markdown",
   "id": "7b7b3322-e0d0-48c4-8ccc-d01b6651836f",
   "metadata": {},
   "source": [
    "### Inciso 6 – Interpretación de coeficientes\n",
    "\n",
    "Los coeficientes del modelo de regresión logística permiten interpretar la influencia de cada variable sobre la probabilidad de pertenecer a la **clase 1 (alta adicción)**:\n",
    "\n",
    "- **Coeficientes positivos** → al aumentar la variable, se incrementa la probabilidad de clase 1.  \n",
    "  Ejemplo: `Time_on_Social_Media`, `Daily_Usage_Hours` y `Time_on_Gaming` muestran los valores más altos, lo que indica que un mayor tiempo en estas actividades aumenta la probabilidad de alta adicción.\n",
    "\n",
    "- **Coeficientes negativos** → al aumentar la variable, se reduce la probabilidad de clase 1.  \n",
    "  Ejemplo: `Sleep_Hours`, `Age` y `Self_Esteem` actúan como factores protectores, disminuyendo la probabilidad de alta adicción.\n",
    "\n",
    "En conjunto, el modelo resalta el papel del **tiempo frente a pantallas** como principal factor de riesgo, mientras que **más horas de sueño, mayor autoestima y mayor edad** tienden a reducir la probabilidad de adicción."
   ]
  },
  {
   "cell_type": "code",
   "execution_count": 10,
   "id": "55a65db4-ef08-4740-a48b-0ff2d32c7400",
   "metadata": {},
   "outputs": [
    {
     "name": "stdout",
     "output_type": "stream",
     "text": [
      "                     Variable  Coeficiente  \\\n",
      "9        Time_on_Social_Media     1.983620   \n",
      "1           Daily_Usage_Hours     1.976078   \n",
      "10             Time_on_Gaming     1.913902   \n",
      "8             Apps_Used_Daily     0.404941   \n",
      "14                Gender_Male     0.109719   \n",
      "6            Parental_Control     0.079195   \n",
      "4               Anxiety_Level     0.039602   \n",
      "7        Phone_Checks_Per_Day     0.038878   \n",
      "15  Phone_Usage_Purpose_Other     0.031429   \n",
      "13        Weekend_Usage_Hours     0.014075   \n",
      "3        Academic_Performance     0.001053   \n",
      "12       Family_Communication     0.000387   \n",
      "11          Time_on_Education    -0.006793   \n",
      "5                 Self_Esteem    -0.011833   \n",
      "0                         Age    -0.039010   \n",
      "2                 Sleep_Hours    -0.958266   \n",
      "\n",
      "                           Interpretación  \n",
      "9   Incrementa la probabilidad de clase 1  \n",
      "1   Incrementa la probabilidad de clase 1  \n",
      "10  Incrementa la probabilidad de clase 1  \n",
      "8   Incrementa la probabilidad de clase 1  \n",
      "14  Incrementa la probabilidad de clase 1  \n",
      "6   Incrementa la probabilidad de clase 1  \n",
      "4   Incrementa la probabilidad de clase 1  \n",
      "7   Incrementa la probabilidad de clase 1  \n",
      "15  Incrementa la probabilidad de clase 1  \n",
      "13  Incrementa la probabilidad de clase 1  \n",
      "3   Incrementa la probabilidad de clase 1  \n",
      "12  Incrementa la probabilidad de clase 1  \n",
      "11      Reduce la probabilidad de clase 1  \n",
      "5       Reduce la probabilidad de clase 1  \n",
      "0       Reduce la probabilidad de clase 1  \n",
      "2       Reduce la probabilidad de clase 1  \n"
     ]
    }
   ],
   "source": [
    "coefs = pd.DataFrame({\n",
    "    \"Variable\": X_train.columns,\n",
    "    \"Coeficiente\": clf.coef_[0]\n",
    "}).sort_values(by=\"Coeficiente\", ascending=False)\n",
    "\n",
    "coefs[\"Interpretación\"] = np.where(\n",
    "    coefs[\"Coeficiente\"] > 0,\n",
    "    \"Incrementa la probabilidad de clase 1\",\n",
    "    \"Reduce la probabilidad de clase 1\"\n",
    ")\n",
    "\n",
    "print(coefs)"
   ]
  },
  {
   "cell_type": "markdown",
   "id": "b16bb1fa-0175-4492-a3c9-d16dcbf1ce04",
   "metadata": {},
   "source": [
    "### Conclusión final\n",
    "\n",
    "El análisis realizado permitió construir y evaluar un modelo de **regresión logística** para predecir niveles de adicción en jóvenes a partir de sus hábitos y características asociadas.  \n",
    "\n",
    "Los resultados muestran que:  \n",
    "- La **limpieza y preparación de los datos** garantizó un conjunto balanceado y representativo.  \n",
    "- El modelo alcanzó una **alta exactitud (≈94%)** tanto en validación cruzada como en pruebas con datos no vistos, lo que indica una buena capacidad de generalización.  \n",
    "- La **curva ROC y el AUC (0.979)** confirmaron un excelente poder discriminativo del modelo.  \n",
    "- La interpretación de los coeficientes destacó que el **tiempo en redes sociales, uso diario y gaming** son los principales factores de riesgo, mientras que **mayor tiempo de sueño, edad y autoestima** actúan como factores protectores.  \n",
    "- La variación de **umbrales de decisión** permitió evidenciar cómo cambia el balance entre sensibilidad y especificidad, lo que ofrece flexibilidad según el objetivo del análisis (detectar más casos positivos o reducir falsos positivos).\n",
    "\n",
    "En conclusión, la regresión logística se consolidó como una herramienta adecuada y efectiva para modelar el fenómeno de la adicción al uso del teléfono, ofreciendo tanto **alto desempeño predictivo** como **interpretación clara de los factores asociados**."
   ]
  }
 ],
 "metadata": {
  "kernelspec": {
   "display_name": "Python [conda env:base] *",
   "language": "python",
   "name": "conda-base-py"
  },
  "language_info": {
   "codemirror_mode": {
    "name": "ipython",
    "version": 3
   },
   "file_extension": ".py",
   "mimetype": "text/x-python",
   "name": "python",
   "nbconvert_exporter": "python",
   "pygments_lexer": "ipython3",
   "version": "3.13.5"
  }
 },
 "nbformat": 4,
 "nbformat_minor": 5
}
